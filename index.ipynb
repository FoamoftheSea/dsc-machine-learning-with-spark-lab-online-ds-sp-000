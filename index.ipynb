{
 "cells": [
  {
   "cell_type": "markdown",
   "metadata": {},
   "source": [
    "## Machine Learning with Spark - Lab\n",
    "\n",
    "## Introduction\n",
    "\n",
    "In the previous lesson, you saw how to manipulate data with Spark DataFrames as well as create machine learning models. In this lab, you're going to practice loading data, manipulating it, and fitting it in the Spark framework. Afterward, you're going to make use of different visualizations to see if you can get any insights from the model. This dataset is from a Taiwanese financial company, and the task is to determine which individuals are going to default on their credit card based off of characteristics such as limit balance, past payment history, age, marriage status, and sex. Let's get started!\n",
    "\n",
    "### Objectives\n",
    "\n",
    "In this lab you will: \n",
    "\n",
    "- Load and manipulate data using Spark DataFrames \n",
    "- Create a Spark ML pipeline that transforms data and runs over a grid of hyperparameters "
   ]
  },
  {
   "cell_type": "markdown",
   "metadata": {},
   "source": [
    "To begin with create a SparkSession and import the `'credit_card_default.csv'` file  into a PySpark DataFrame. "
   ]
  },
  {
   "cell_type": "code",
   "execution_count": 2,
   "metadata": {},
   "outputs": [],
   "source": [
    "# import necessary libraries\n",
    "from pyspark import SparkContext\n",
    "from pyspark.sql import SparkSession\n",
    "# initialize Spark Session\n",
    "spark = SparkSession.builder.master('local').getOrCreate()\n",
    "\n",
    "# read in csv to a spark dataframe\n",
    "spark_df = spark.read.csv('credit_card_default.csv', header=True, inferSchema=True)"
   ]
  },
  {
   "cell_type": "markdown",
   "metadata": {},
   "source": [
    "Check the datatypes to ensure that all columns are the datatype you expect."
   ]
  },
  {
   "cell_type": "code",
   "execution_count": 3,
   "metadata": {},
   "outputs": [
    {
     "data": {
      "text/plain": [
       "[('ID', 'int'),\n",
       " ('LIMIT_BAL', 'double'),\n",
       " ('SEX', 'string'),\n",
       " ('EDUCATION', 'string'),\n",
       " ('MARRIAGE', 'string'),\n",
       " ('AGE', 'int'),\n",
       " ('PAY_0', 'int'),\n",
       " ('PAY_2', 'int'),\n",
       " ('PAY_3', 'int'),\n",
       " ('PAY_4', 'int'),\n",
       " ('PAY_5', 'int'),\n",
       " ('PAY_6', 'int'),\n",
       " ('BILL_AMT1', 'double'),\n",
       " ('BILL_AMT2', 'double'),\n",
       " ('BILL_AMT3', 'double'),\n",
       " ('BILL_AMT4', 'double'),\n",
       " ('BILL_AMT5', 'double'),\n",
       " ('BILL_AMT6', 'double'),\n",
       " ('PAY_AMT1', 'double'),\n",
       " ('PAY_AMT2', 'double'),\n",
       " ('PAY_AMT3', 'double'),\n",
       " ('PAY_AMT4', 'double'),\n",
       " ('PAY_AMT5', 'double'),\n",
       " ('PAY_AMT6', 'double'),\n",
       " ('default', 'int')]"
      ]
     },
     "execution_count": 3,
     "metadata": {},
     "output_type": "execute_result"
    }
   ],
   "source": [
    "spark_df.dtypes"
   ]
  },
  {
   "cell_type": "markdown",
   "metadata": {},
   "source": [
    "Check to see how many missing values are in the dataset. This will require using the `.filter()` , `.isNull()`, and `.count()` methods."
   ]
  },
  {
   "cell_type": "code",
   "execution_count": 8,
   "metadata": {},
   "outputs": [
    {
     "name": "stdout",
     "output_type": "stream",
     "text": [
      "ID : 0\n",
      "LIMIT_BAL : 0\n",
      "SEX : 0\n",
      "EDUCATION : 0\n",
      "MARRIAGE : 0\n",
      "AGE : 0\n",
      "PAY_0 : 0\n",
      "PAY_2 : 0\n",
      "PAY_3 : 0\n",
      "PAY_4 : 0\n",
      "PAY_5 : 0\n",
      "PAY_6 : 0\n",
      "BILL_AMT1 : 0\n",
      "BILL_AMT2 : 0\n",
      "BILL_AMT3 : 0\n",
      "BILL_AMT4 : 0\n",
      "BILL_AMT5 : 0\n",
      "BILL_AMT6 : 0\n",
      "PAY_AMT1 : 0\n",
      "PAY_AMT2 : 0\n",
      "PAY_AMT3 : 0\n",
      "PAY_AMT4 : 0\n",
      "PAY_AMT5 : 0\n",
      "PAY_AMT6 : 0\n",
      "default : 0\n"
     ]
    }
   ],
   "source": [
    "for col in spark_df.columns:\n",
    "    print(col, ':', spark_df.filter(spark_df[col].isNull()).count())"
   ]
  },
  {
   "cell_type": "code",
   "execution_count": null,
   "metadata": {},
   "outputs": [],
   "source": [
    "# There are no missing values in the data"
   ]
  },
  {
   "cell_type": "markdown",
   "metadata": {},
   "source": [
    "Now, determine how many categories there are in each of the categorical columns."
   ]
  },
  {
   "cell_type": "code",
   "execution_count": 10,
   "metadata": {},
   "outputs": [
    {
     "name": "stdout",
     "output_type": "stream",
     "text": [
      "Feature SEX has: [Row(SEX='Female'), Row(SEX='Male')]\n",
      "Feature EDUCATION has: [Row(EDUCATION='High School'), Row(EDUCATION='0'), Row(EDUCATION='5'), Row(EDUCATION='6'), Row(EDUCATION='Other'), Row(EDUCATION='Graduate'), Row(EDUCATION='College')]\n",
      "Feature MARRIAGE has: [Row(MARRIAGE='0'), Row(MARRIAGE='Other'), Row(MARRIAGE='Married'), Row(MARRIAGE='Single')]\n"
     ]
    }
   ],
   "source": [
    "for column, data_type in spark_df.dtypes:\n",
    "    if data_type == 'string':\n",
    "        print('Feature', column, 'has:', spark_df.select(column).distinct().collect())"
   ]
  },
  {
   "cell_type": "markdown",
   "metadata": {},
   "source": [
    "Interesting... it looks like we have some extraneous values in each of our categories. Let's look at some visualizations of each of these to determine just how many of them there are. Create bar plots of the variables `'EDUCATION'` and `'MARRIAGE'` to see how many of the undefined values there are. After doing so, come up with a strategy for accounting for the extra values."
   ]
  },
  {
   "cell_type": "code",
   "execution_count": null,
   "metadata": {},
   "outputs": [],
   "source": [
    "import seaborn as sns\n",
    "import matplotlib.pyplot as plt\n",
    "import numpy as np"
   ]
  },
  {
   "cell_type": "code",
   "execution_count": 15,
   "metadata": {
    "scrolled": true
   },
   "outputs": [
    {
     "data": {
      "image/png": "[encoded data removed]",
      "text/plain": [
       "<Figure size 432x288 with 1 Axes>"
      ]
     },
     "metadata": {
      "needs_background": "light"
     },
     "output_type": "display_data"
    }
   ],
   "source": [
    "## plotting the categories for education\n",
    "ed_counts = np.array(spark_df.groupBy('EDUCATION').count().collect())\n",
    "sns.barplot(x=ed_counts[:,0], y=ed_counts[:,1].astype('float64'));"
   ]
  },
  {
   "cell_type": "code",
   "execution_count": 16,
   "metadata": {},
   "outputs": [
    {
     "data": {
      "text/plain": [
       "<AxesSubplot:>"
      ]
     },
     "execution_count": 16,
     "metadata": {},
     "output_type": "execute_result"
    },
    {
     "data": {
      "image/png": "[encoded data removed]",
      "text/plain": [
       "<Figure size 432x288 with 1 Axes>"
      ]
     },
     "metadata": {
      "needs_background": "light"
     },
     "output_type": "display_data"
    }
   ],
   "source": [
    "## plotting the categories for marriage\n",
    "marriage_counts = np.array(spark_df.groupBy('MARRIAGE').count().collect())\n",
    "sns.barplot(x=marriage_counts[:,0], y=marriage_counts[:,1].astype('float64'))"
   ]
  },
  {
   "cell_type": "markdown",
   "metadata": {},
   "source": [
    "It looks like there are barely any of the 0 and 5 categories. We can go ahead and throw them into the \"Other\" category since it's already operating as a catchall here. Similarly, the category \"0\" looks small, so let's throw it in with the \"Other\" values. You can do this by using a method called `.when()` from PySpark in conjunction with `.withColumn()` and `.otherwise()`.  "
   ]
  },
  {
   "cell_type": "code",
   "execution_count": 17,
   "metadata": {},
   "outputs": [],
   "source": [
    "from pyspark.sql.functions import when\n",
    "\n",
    "## changing the values in the education column\n",
    "spark_df_fix = spark_df.withColumn('EDUCATION', \n",
    "                                   when(spark_df.EDUCATION == '0', 'Other')\\\n",
    "                                   .when(spark_df.EDUCATION == '5', 'Other')\\\n",
    "                                   .when(spark_df.EDUCATION == '6', 'Other')\\\n",
    "                                   .otherwise(spark_df.EDUCATION)\n",
    "                                  )\n",
    "## changing the values in the marriage column\n",
    "\n",
    "spark_df_done = spark_df_fix.withColumn('MARRIAGE',\n",
    "                                        when(spark_df_fix.MARRIAGE == '0', 'Other')\\\n",
    "                                        .otherwise(spark_df.MARRIAGE)\n",
    "                                       )"
   ]
  },
  {
   "cell_type": "code",
   "execution_count": 18,
   "metadata": {},
   "outputs": [
    {
     "data": {
      "text/plain": [
       "Row(ID=2, LIMIT_BAL=120000.0, SEX='Female', EDUCATION='College', MARRIAGE='Single', AGE=26, PAY_0=-1, PAY_2=2, PAY_3=0, PAY_4=0, PAY_5=0, PAY_6=2, BILL_AMT1=2682.0, BILL_AMT2=1725.0, BILL_AMT3=2682.0, BILL_AMT4=3272.0, BILL_AMT5=3455.0, BILL_AMT6=3261.0, PAY_AMT1=0.0, PAY_AMT2=1000.0, PAY_AMT3=1000.0, PAY_AMT4=1000.0, PAY_AMT5=0.0, PAY_AMT6=2000.0, default=1)"
      ]
     },
     "execution_count": 18,
     "metadata": {},
     "output_type": "execute_result"
    }
   ],
   "source": [
    "spark_df_done.head()"
   ]
  },
  {
   "cell_type": "code",
   "execution_count": 19,
   "metadata": {
    "scrolled": true
   },
   "outputs": [
    {
     "data": {
      "image/png": "[encoded data removed]",
      "text/plain": [
       "<Figure size 432x288 with 1 Axes>"
      ]
     },
     "metadata": {
      "needs_background": "light"
     },
     "output_type": "display_data"
    }
   ],
   "source": [
    "## plotting the categories for education\n",
    "ed_counts = np.array(spark_df_done.groupBy('EDUCATION').count().collect())\n",
    "sns.barplot(x=ed_counts[:,0], y=ed_counts[:,1].astype('float64'));"
   ]
  },
  {
   "cell_type": "markdown",
   "metadata": {},
   "source": [
    "Now let's take a look at all the values contained in the categorical columns of the DataFrame: "
   ]
  },
  {
   "cell_type": "code",
   "execution_count": 20,
   "metadata": {},
   "outputs": [
    {
     "name": "stdout",
     "output_type": "stream",
     "text": [
      "Feature SEX has: [Row(SEX='Female'), Row(SEX='Male')]\n",
      "Feature EDUCATION has: [Row(EDUCATION='High School'), Row(EDUCATION='Other'), Row(EDUCATION='Graduate'), Row(EDUCATION='College')]\n",
      "Feature MARRIAGE has: [Row(MARRIAGE='Other'), Row(MARRIAGE='Married'), Row(MARRIAGE='Single')]\n"
     ]
    }
   ],
   "source": [
    "for column, data_type in spark_df_done.dtypes:\n",
    "    if data_type == 'string':\n",
    "        print('Feature', column, 'has:', spark_df_done.select(column).distinct().collect())"
   ]
  },
  {
   "cell_type": "markdown",
   "metadata": {},
   "source": [
    "Much better. Now, let's do a little more investigation into our target variable before diving into the machine learning aspect of this project."
   ]
  },
  {
   "cell_type": "markdown",
   "metadata": {},
   "source": [
    "##  EDA\n",
    "\n",
    "Let's first look at the overall distribution of class balance of the default and not default labels. Create a barplot to compare the number of defaults vs. non-defaults. This will require using `.groupBy()` as well as an aggregation method."
   ]
  },
  {
   "cell_type": "code",
   "execution_count": 25,
   "metadata": {},
   "outputs": [
    {
     "data": {
      "text/plain": [
       "array([[    1,  6635],\n",
       "       [    0, 23364]])"
      ]
     },
     "execution_count": 25,
     "metadata": {},
     "output_type": "execute_result"
    }
   ],
   "source": [
    "default_counts = np.array(spark_df_done.groupBy('default').count().collect())\n",
    "default_counts"
   ]
  },
  {
   "cell_type": "code",
   "execution_count": 34,
   "metadata": {},
   "outputs": [
    {
     "data": {
      "image/png": "[encoded data removed]",
      "text/plain": [
       "<Figure size 432x288 with 1 Axes>"
      ]
     },
     "metadata": {
      "needs_background": "light"
     },
     "output_type": "display_data"
    }
   ],
   "source": [
    "ax = sns.barplot(x=default_counts[:,0], y=default_counts[:,1])\n",
    "ax.set_xticklabels(['No Default (0)', 'Default (1)']);"
   ]
  },
  {
   "cell_type": "markdown",
   "metadata": {},
   "source": [
    "Let's also visualize the difference in default rate between males and females in this dataset."
   ]
  },
  {
   "cell_type": "code",
   "execution_count": 35,
   "metadata": {},
   "outputs": [],
   "source": [
    "# perform a groupby for default and sex\n",
    "male_counts = np.array(spark_df_done.filter(spark_df_done.SEX == 'Male').groupBy('default').count().collect())\n",
    "female_counts = np.array(spark_df_done.filter(spark_df_done.SEX == 'Female').groupBy('default').count().collect())"
   ]
  },
  {
   "cell_type": "code",
   "execution_count": 39,
   "metadata": {},
   "outputs": [
    {
     "data": {
      "image/png": "[encoded data removed]",
      "text/plain": [
       "<Figure size 792x288 with 2 Axes>"
      ]
     },
     "metadata": {
      "needs_background": "light"
     },
     "output_type": "display_data"
    }
   ],
   "source": [
    "# make barplot for female and male default v no default rate\n",
    "fig, (ax1, ax2) = plt.subplots(1,2, figsize=(11,4))\n",
    "sns.barplot(x=male_counts[:, 0], y=male_counts[:, 1].astype('float64'), ax=ax1)\n",
    "ax1.set_title('Male Default Rate')\n",
    "ax1.set_xticklabels(['No Default (0)', 'Default (1)']);\n",
    "sns.barplot(x=female_counts[:, 0], y=female_counts[:, 1].astype('float64'), ax=ax2)\n",
    "ax2.set_title('Female Default Rate')\n",
    "ax2.set_xticklabels(['No Default (0)', 'Default (1)']);"
   ]
  },
  {
   "cell_type": "markdown",
   "metadata": {},
   "source": [
    "It looks like males have an ever so slightly higher default rate than females."
   ]
  },
  {
   "cell_type": "markdown",
   "metadata": {},
   "source": [
    "## Onto the Machine Learning!"
   ]
  },
  {
   "cell_type": "markdown",
   "metadata": {},
   "source": [
    "Now, it's time to fit the data to the PySpark machine learning model pipeline. You will need:\n",
    "\n",
    "* 3 StringIndexers (for each categorical feature)\n",
    "* A OneHotEncoderEstimator (to encode the newly indexed strings into categorical variables)\n",
    "* A VectorAssembler (to combine all features into one SparseVector)\n",
    "\n",
    "All of these initialized estimators should be stored in a list."
   ]
  },
  {
   "cell_type": "code",
   "execution_count": 40,
   "metadata": {},
   "outputs": [
    {
     "data": {
      "text/plain": [
       "['ID',\n",
       " 'LIMIT_BAL',\n",
       " 'SEX',\n",
       " 'EDUCATION',\n",
       " 'MARRIAGE',\n",
       " 'AGE',\n",
       " 'PAY_0',\n",
       " 'PAY_2',\n",
       " 'PAY_3',\n",
       " 'PAY_4',\n",
       " 'PAY_5',\n",
       " 'PAY_6',\n",
       " 'BILL_AMT1',\n",
       " 'BILL_AMT2',\n",
       " 'BILL_AMT3',\n",
       " 'BILL_AMT4',\n",
       " 'BILL_AMT5',\n",
       " 'BILL_AMT6',\n",
       " 'PAY_AMT1',\n",
       " 'PAY_AMT2',\n",
       " 'PAY_AMT3',\n",
       " 'PAY_AMT4',\n",
       " 'PAY_AMT5',\n",
       " 'PAY_AMT6',\n",
       " 'default']"
      ]
     },
     "execution_count": 40,
     "metadata": {},
     "output_type": "execute_result"
    }
   ],
   "source": [
    "spark_df_done.columns"
   ]
  },
  {
   "cell_type": "code",
   "execution_count": 68,
   "metadata": {},
   "outputs": [],
   "source": [
    "to_drop = ['ID', 'SEX', 'EDUCATION', 'MARRIAGE', 'default']"
   ]
  },
  {
   "cell_type": "code",
   "execution_count": 69,
   "metadata": {},
   "outputs": [
    {
     "data": {
      "text/plain": [
       "[StringIndexer_6b9fc8607f8a,\n",
       " StringIndexer_a4048fd74ae6,\n",
       " StringIndexer_0ac9aa5759cc,\n",
       " OneHotEncoder_eabd98944e79,\n",
       " VectorAssembler_0cb82c429d8b]"
      ]
     },
     "execution_count": 69,
     "metadata": {},
     "output_type": "execute_result"
    }
   ],
   "source": [
    "# importing the necessary modules\n",
    "from pyspark.ml.regression import RandomForestRegressor\n",
    "from pyspark.ml.feature import StringIndexer, VectorAssembler, OneHotEncoder, OneHotEncoderModel\n",
    "\n",
    "# creating the string indexers\n",
    "si1 = StringIndexer(inputCol='SEX', outputCol='sex_idx')\n",
    "si2 = StringIndexer(inputCol='EDUCATION', outputCol='edu_idx')\n",
    "si3 = StringIndexer(inputCol='MARRIAGE', outputCol='marriage_idx')\n",
    "\n",
    "# features to be included in the model \n",
    "ohe = OneHotEncoder(inputCols=['sex_idx', \n",
    "                               'edu_idx', \n",
    "                               'marriage_idx'], \n",
    "                    outputCols=['sex_vec',\n",
    "                                'edu_vec',\n",
    "                                'marriage_vec'\n",
    "                               ], dropLast=True)\n",
    "\n",
    "# adding the categorical features\n",
    "features = [col for col in spark_df_done.columns if col not in to_drop] + ohe.getOutputCols()\n",
    "\n",
    "\n",
    "# putting all of the features into a single vector\n",
    "vector_assembler = VectorAssembler(inputCols=features, outputCol='features')\n",
    "\n",
    "stages = [si1, si2, si3, ohe, vector_assembler]\n",
    "stages"
   ]
  },
  {
   "cell_type": "markdown",
   "metadata": {},
   "source": [
    "Alright! Now let's see if that worked. Let's investigate how it transforms your dataset. Put all of the stages in a Pipeline and fit it to your data. Look at the features column. Did you obtain the number of features you expected?"
   ]
  },
  {
   "cell_type": "code",
   "execution_count": 70,
   "metadata": {},
   "outputs": [],
   "source": [
    "from pyspark.ml.pipeline import Pipeline\n",
    "\n",
    "pipeline = Pipeline(stages=stages)\n",
    "# 17 numerical features and 6 categorical ones (the argument dropLast = True makes us have Sex, 3 Edu variables and 2 marriage)"
   ]
  },
  {
   "cell_type": "code",
   "execution_count": 71,
   "metadata": {},
   "outputs": [],
   "source": [
    "pipe_transformer = pipeline.fit(spark_df_done)"
   ]
  },
  {
   "cell_type": "code",
   "execution_count": 72,
   "metadata": {},
   "outputs": [
    {
     "data": {
      "text/plain": [
       "Row(features=DenseVector([120000.0, 26.0, -1.0, 2.0, 0.0, 0.0, 0.0, 2.0, 2682.0, 1725.0, 2682.0, 3272.0, 3455.0, 3261.0, 0.0, 1000.0, 1000.0, 1000.0, 0.0, 2000.0, 1.0, 1.0, 0.0, 0.0, 1.0, 0.0]))"
      ]
     },
     "execution_count": 72,
     "metadata": {},
     "output_type": "execute_result"
    }
   ],
   "source": [
    "transformed = pipe_transformer.transform(spark_df_done)\n",
    "p = transformed.select('features')\n",
    "p.head()"
   ]
  },
  {
   "cell_type": "markdown",
   "metadata": {},
   "source": [
    "## Fitting Machine Learning Models\n",
    "That looks good! Now let's go ahead and fit data to different machine learning models. To evaluate these models, you should use the `BinaryClassificationEvaluator`. Below is an import of all the classes and libraries you'll need in the remainder of this lab."
   ]
  },
  {
   "cell_type": "code",
   "execution_count": 73,
   "metadata": {},
   "outputs": [],
   "source": [
    "from pyspark.ml.classification import GBTClassifier, DecisionTreeClassifier, LogisticRegression, RandomForestClassifier\n",
    "from pyspark.ml.tuning import ParamGridBuilder, CrossValidator, TrainValidationSplit\n",
    "from pyspark.ml.evaluation import BinaryClassificationEvaluator\n",
    "import numpy as np"
   ]
  },
  {
   "cell_type": "markdown",
   "metadata": {},
   "source": [
    "### Logistic Regression\n",
    "\n",
    "First, we'll try with a simple Logistic Regression Model:\n",
    "\n",
    "* instantiate a logistic regression model\n",
    "* add it to the stages list\n",
    "* instantiate a new Pipeline estimator (not fit) with all of the stages\n",
    "* instantiate an `BinaryClassificationEvaluator`\n",
    "* create parameters to gridsearch through using `ParamGridBuilder`\n",
    "* Instantiate and fit a `CrossValidator` "
   ]
  },
  {
   "cell_type": "code",
   "execution_count": 74,
   "metadata": {},
   "outputs": [],
   "source": [
    "logreg = LogisticRegression(featuresCol='features', labelCol='default')\n",
    "logreg_stages = stages + [logreg]\n",
    "logreg_pipe = Pipeline(stages=logreg_stages)\n",
    "\n",
    "logreg_eval = BinaryClassificationEvaluator(labelCol='default')\n",
    "\n",
    "logreg_params = ParamGridBuilder().addGrid(logreg.regParam, [0, 1, 5])\\\n",
    "                                  .addGrid(logreg.threshold, [0.4, 0.5, 0.6])\\\n",
    "                                  .addGrid(logreg.standardization, [True, False]).build()\n",
    "\n",
    "logreg_cv = CrossValidator(estimator=logreg_pipe, estimatorParamMaps=logreg_params, evaluator=logreg_eval, parallelism=4)"
   ]
  },
  {
   "cell_type": "code",
   "execution_count": 75,
   "metadata": {},
   "outputs": [],
   "source": [
    "logreg_cv_model = logreg_cv.fit(spark_df_done)"
   ]
  },
  {
   "cell_type": "markdown",
   "metadata": {},
   "source": [
    "Determine how well your model performed by looking at the evaluator metrics. If you tried multiple parameters, which performed best?"
   ]
  },
  {
   "cell_type": "code",
   "execution_count": 76,
   "metadata": {},
   "outputs": [
    {
     "name": "stdout",
     "output_type": "stream",
     "text": [
      "AUC: 0.7245243034507636\n",
      "best parameters : {Param(parent='LogisticRegression_7818d4bc6ab9', name='regParam', doc='regularization parameter (>= 0).'): 0.0, Param(parent='LogisticRegression_7818d4bc6ab9', name='threshold', doc='Threshold in binary classification prediction, in range [0, 1]. If threshold and thresholds are both set, they must match.e.g. if threshold is p, then thresholds must be equal to [1-p, p].'): 0.4, Param(parent='LogisticRegression_7818d4bc6ab9', name='standardization', doc='whether to standardize the training features before fitting the model.'): True}\n"
     ]
    }
   ],
   "source": [
    "# print out the AUC of your best model as well as the parameters of your best model\n",
    "index_best_model = np.argmax(logreg_cv_model.avgMetrics)\n",
    "print('AUC:', logreg_cv_model.avgMetrics[index_best_model])\n",
    "print('best parameters :', logreg_params[index_best_model])"
   ]
  },
  {
   "cell_type": "code",
   "execution_count": 77,
   "metadata": {},
   "outputs": [
    {
     "data": {
      "text/plain": [
       "[0.7245243034507636,\n",
       " 0.7245243034507636,\n",
       " 0.7245243034507636,\n",
       " 0.7245243034507636,\n",
       " 0.7245243034507636,\n",
       " 0.7245243034507636,\n",
       " 0.6996515905003896,\n",
       " 0.7077159153259531,\n",
       " 0.6996515905003896,\n",
       " 0.7077159153259531,\n",
       " 0.6996515905003896,\n",
       " 0.7077159153259531,\n",
       " 0.6959300298478327,\n",
       " 0.6875494740822521,\n",
       " 0.6959300298478327,\n",
       " 0.6875494740822521,\n",
       " 0.6959300298478327,\n",
       " 0.6875494740822521]"
      ]
     },
     "execution_count": 77,
     "metadata": {},
     "output_type": "execute_result"
    }
   ],
   "source": [
    "logreg_cv_model.avgMetrics"
   ]
  },
  {
   "cell_type": "markdown",
   "metadata": {},
   "source": [
    "#### Now try this again with other classifiers. Try and create a function that will allow you to easily test different models with different parameters. This function is optional, but it should allow for your code to be far more D.R.Y. The function should return the fitted cross-validated model as well as print out the performance metrics of the best performing model and the best parameters."
   ]
  },
  {
   "cell_type": "code",
   "execution_count": 107,
   "metadata": {},
   "outputs": [],
   "source": [
    "# create function to cross validate models with different parameters\n",
    "def model_test(clf, param_grid, data, stages):\n",
    "    stages = stages + [clf]\n",
    "    pipe = Pipeline(stages=stages)\n",
    "    \n",
    "    clf_eval = BinaryClassificationEvaluator(labelCol='default')\n",
    "    cv = CrossValidator(estimator=pipe, estimatorParamMaps=param_grid, evaluator=clf_eval, parallelism=4)\n",
    "    cv_model = cv.fit(data)\n",
    "    \n",
    "    # Print best AUC and params\n",
    "    index_best_model = np.argmax(cv_model.avgMetrics)\n",
    "    print('AUC:', cv_model.avgMetrics[index_best_model])\n",
    "    print('best parameters :', param_grid[index_best_model])\n",
    "    \n",
    "    # Return model\n",
    "    return cv_model"
   ]
  },
  {
   "cell_type": "markdown",
   "metadata": {},
   "source": [
    "Train a Random Forest classifier and determine the best performing model with the best parameters. This might take a while! Be smart about how you use parallelization here."
   ]
  },
  {
   "cell_type": "code",
   "execution_count": 108,
   "metadata": {},
   "outputs": [],
   "source": [
    "clf = RandomForestClassifier(featuresCol='features',\n",
    "                             labelCol='default'\n",
    "                            )\n",
    "rf_grid = ParamGridBuilder().addGrid(clf.maxDepth, [10, 20, 30])\\\n",
    "                            .addGrid(clf.numTrees, [20, 30, 40])\\\n",
    "                            .addGrid(clf.minInstancesPerNode, [1, 5, 10]).build()"
   ]
  },
  {
   "cell_type": "code",
   "execution_count": 109,
   "metadata": {},
   "outputs": [
    {
     "name": "stdout",
     "output_type": "stream",
     "text": [
      "AUC: 0.7804486874834509\n",
      "best parameters : {Param(parent='RandomForestClassifier_2e485eb6143f', name='maxDepth', doc='Maximum depth of the tree. (>= 0) E.g., depth 0 means 1 leaf node; depth 1 means 1 internal node + 2 leaf nodes.'): 20, Param(parent='RandomForestClassifier_2e485eb6143f', name='numTrees', doc='Number of trees to train (>= 1).'): 40, Param(parent='RandomForestClassifier_2e485eb6143f', name='minInstancesPerNode', doc='Minimum number of instances each child must have after split. If a split causes the left or right child to have fewer than minInstancesPerNode, the split will be discarded as invalid. Should be >= 1.'): 10}\n"
     ]
    }
   ],
   "source": [
    "# code to train Random Forest Classifier\n",
    "# ⏰ This cell may take a long time to run\n",
    "rf_model = model_test(clf, rf_grid, spark_df_done, stages)"
   ]
  },
  {
   "cell_type": "markdown",
   "metadata": {},
   "source": [
    "Now train a Gradient Boosting Classifier. **This might take a very long time depending on the number of parameters you are training**"
   ]
  },
  {
   "cell_type": "code",
   "execution_count": 101,
   "metadata": {},
   "outputs": [],
   "source": [
    "# code to train Gradient Boosting Classifier\n",
    "# ⏰ This cell may take a long time to run\n",
    "clf = GBTClassifier(featuresCol='features', labelCol='default')"
   ]
  },
  {
   "cell_type": "code",
   "execution_count": 103,
   "metadata": {},
   "outputs": [
    {
     "data": {
      "text/plain": [
       "['auto', 'all', 'onethird', 'sqrt', 'log2']"
      ]
     },
     "execution_count": 103,
     "metadata": {},
     "output_type": "execute_result"
    }
   ],
   "source": [
    "clf.supportedFeatureSubsetStrategies"
   ]
  },
  {
   "cell_type": "code",
   "execution_count": 106,
   "metadata": {},
   "outputs": [
    {
     "name": "stdout",
     "output_type": "stream",
     "text": [
      "AUC: 0.7780523682198107\n",
      "best parameters : {Param(parent='GBTClassifier_e817e1980e60', name='maxDepth', doc='Maximum depth of the tree. (>= 0) E.g., depth 0 means 1 leaf node; depth 1 means 1 internal node + 2 leaf nodes.'): 5, Param(parent='GBTClassifier_e817e1980e60', name='featureSubsetStrategy', doc=\"The number of features to consider for splits at each tree node. Supported options: 'auto' (choose automatically for task: If numTrees == 1, set to 'all'. If numTrees > 1 (forest), set to 'sqrt' for classification and to 'onethird' for regression), 'all' (use all features), 'onethird' (use 1/3 of the features), 'sqrt' (use sqrt(number of features)), 'log2' (use log2(number of features)), 'n' (when n is in the range (0, 1.0], use n * number of features. When n is in the range (1, number of features), use n features). default = 'auto'\"): 'auto'}\n"
     ]
    }
   ],
   "source": [
    "gbt_grid = ParamGridBuilder().addGrid(clf.maxDepth, [2, 3, 5])\\\n",
    "                             .addGrid(clf.featureSubsetStrategy, ['auto', 'all', 'sqrt', 'log2']).build()\n",
    "\n",
    "gbt_model = model_test(clf, gbt_grid, spark_df_done, stages)"
   ]
  },
  {
   "cell_type": "markdown",
   "metadata": {},
   "source": [
    "It looks like the optimal performing model is the Random Forest Classifier Model because it has the highest AUC!\n",
    "\n",
    "## Level Up (Optional)\n",
    "\n",
    "* Create ROC curves for each of these models\n",
    "* Try the multi-layer perceptron classifier algorithm. You will soon learn about what this means in the neural network section!"
   ]
  },
  {
   "cell_type": "markdown",
   "metadata": {},
   "source": [
    "## Summary\n",
    "\n",
    "If you've made it thus far, congratulations! Spark is an in-demand skill, but it is not particularly easy to master. In this lesson, you fit multiple different machine learning pipelines for a classification problem. If you want to take your Spark skills to the next level, connect to a distributed cluster using a service like AWS or Databricks and perform these Spark operations on the cloud."
   ]
  }
 ],
 "metadata": {
  "kernelspec": {
   "display_name": "Python 3",
   "language": "python",
   "name": "python3"
  },
  "language_info": {
   "codemirror_mode": {
    "name": "ipython",
    "version": 3
   },
   "file_extension": ".py",
   "mimetype": "text/x-python",
   "name": "python",
   "nbconvert_exporter": "python",
   "pygments_lexer": "ipython3",
   "version": "3.8.6"
  }
 },
 "nbformat": 4,
 "nbformat_minor": 2
}
